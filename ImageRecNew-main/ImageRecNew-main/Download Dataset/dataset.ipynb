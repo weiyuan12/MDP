{
 "cells": [
  {
   "cell_type": "code",
   "execution_count": 1,
   "metadata": {},
   "outputs": [
    {
     "name": "stdout",
     "output_type": "stream",
     "text": [
      "Requirement already satisfied: roboflow in c:\\users\\wei kang\\appdata\\local\\programs\\python\\python311\\lib\\site-packages (1.1.4)\n",
      "Requirement already satisfied: certifi==2022.12.7 in c:\\users\\wei kang\\appdata\\local\\programs\\python\\python311\\lib\\site-packages (from roboflow) (2022.12.7)\n",
      "Requirement already satisfied: chardet==4.0.0 in c:\\users\\wei kang\\appdata\\local\\programs\\python\\python311\\lib\\site-packages (from roboflow) (4.0.0)\n",
      "Requirement already satisfied: cycler==0.10.0 in c:\\users\\wei kang\\appdata\\local\\programs\\python\\python311\\lib\\site-packages (from roboflow) (0.10.0)\n",
      "Requirement already satisfied: idna==2.10 in c:\\users\\wei kang\\appdata\\local\\programs\\python\\python311\\lib\\site-packages (from roboflow) (2.10)\n",
      "Requirement already satisfied: kiwisolver>=1.3.1 in c:\\users\\wei kang\\appdata\\local\\programs\\python\\python311\\lib\\site-packages (from roboflow) (1.4.5)\n",
      "Requirement already satisfied: matplotlib in c:\\users\\wei kang\\appdata\\local\\programs\\python\\python311\\lib\\site-packages (from roboflow) (3.7.2)\n",
      "Requirement already satisfied: numpy>=1.18.5 in c:\\users\\wei kang\\appdata\\roaming\\python\\python311\\site-packages (from roboflow) (1.24.2)\n",
      "Requirement already satisfied: opencv-python>=4.1.2 in c:\\users\\wei kang\\appdata\\local\\programs\\python\\python311\\lib\\site-packages (from roboflow) (4.8.0.76)\n",
      "Requirement already satisfied: Pillow>=7.1.2 in c:\\users\\wei kang\\appdata\\roaming\\python\\python311\\site-packages (from roboflow) (9.4.0)\n",
      "Requirement already satisfied: pyparsing==2.4.7 in c:\\users\\wei kang\\appdata\\local\\programs\\python\\python311\\lib\\site-packages (from roboflow) (2.4.7)\n",
      "Requirement already satisfied: python-dateutil in c:\\users\\wei kang\\appdata\\roaming\\python\\python311\\site-packages (from roboflow) (2.8.2)\n",
      "Requirement already satisfied: python-dotenv in c:\\users\\wei kang\\appdata\\local\\programs\\python\\python311\\lib\\site-packages (from roboflow) (1.0.0)\n",
      "Requirement already satisfied: requests in c:\\users\\wei kang\\appdata\\local\\programs\\python\\python311\\lib\\site-packages (from roboflow) (2.31.0)\n",
      "Requirement already satisfied: six in c:\\users\\wei kang\\appdata\\roaming\\python\\python311\\site-packages (from roboflow) (1.16.0)\n",
      "Requirement already satisfied: supervision in c:\\users\\wei kang\\appdata\\local\\programs\\python\\python311\\lib\\site-packages (from roboflow) (0.14.0)\n",
      "Requirement already satisfied: urllib3>=1.26.6 in c:\\users\\wei kang\\appdata\\local\\programs\\python\\python311\\lib\\site-packages (from roboflow) (1.26.16)\n",
      "Requirement already satisfied: wget in c:\\users\\wei kang\\appdata\\local\\programs\\python\\python311\\lib\\site-packages (from roboflow) (3.2)\n",
      "Requirement already satisfied: tqdm>=4.41.0 in c:\\users\\wei kang\\appdata\\local\\programs\\python\\python311\\lib\\site-packages (from roboflow) (4.66.1)\n",
      "Requirement already satisfied: PyYAML>=5.3.1 in c:\\users\\wei kang\\appdata\\roaming\\python\\python311\\site-packages (from roboflow) (6.0)\n",
      "Requirement already satisfied: requests-toolbelt in c:\\users\\wei kang\\appdata\\local\\programs\\python\\python311\\lib\\site-packages (from roboflow) (1.0.0)\n",
      "Requirement already satisfied: colorama in c:\\users\\wei kang\\appdata\\roaming\\python\\python311\\site-packages (from tqdm>=4.41.0->roboflow) (0.4.6)\n",
      "Requirement already satisfied: contourpy>=1.0.1 in c:\\users\\wei kang\\appdata\\local\\programs\\python\\python311\\lib\\site-packages (from matplotlib->roboflow) (1.1.0)\n",
      "Requirement already satisfied: fonttools>=4.22.0 in c:\\users\\wei kang\\appdata\\local\\programs\\python\\python311\\lib\\site-packages (from matplotlib->roboflow) (4.42.1)\n",
      "Requirement already satisfied: packaging>=20.0 in c:\\users\\wei kang\\appdata\\roaming\\python\\python311\\site-packages (from matplotlib->roboflow) (23.0)\n",
      "Requirement already satisfied: charset-normalizer<4,>=2 in c:\\users\\wei kang\\appdata\\local\\programs\\python\\python311\\lib\\site-packages (from requests->roboflow) (3.2.0)\n",
      "Requirement already satisfied: opencv-python-headless<5.0.0.0,>=4.8.0.74 in c:\\users\\wei kang\\appdata\\local\\programs\\python\\python311\\lib\\site-packages (from supervision->roboflow) (4.8.0.76)\n",
      "Requirement already satisfied: scipy<2.0.0,>=1.9.0 in c:\\users\\wei kang\\appdata\\local\\programs\\python\\python311\\lib\\site-packages (from supervision->roboflow) (1.11.2)\n",
      "Note: you may need to restart the kernel to use updated packages.\n",
      "loading Roboflow workspace...\n",
      "loading Roboflow project...\n",
      "[WARNING] we noticed you are downloading a `yolov8` datasets but you don't have `ultralytics` installed. Roboflow `.deploy` supports only models trained with `ultralytics==8.0.134`, to intall it `pip install ultralytics==8.0.134`.\n",
      "Downloading Dataset Version Zip in datasetv1-9 to yolov8: 100% [828937174 / 828937174] bytes\n"
     ]
    },
    {
     "name": "stderr",
     "output_type": "stream",
     "text": [
      "Extracting Dataset Version Zip to datasetv1-9 in yolov8:: 100%|██████████| 33276/33276 [00:14<00:00, 2289.74it/s]\n"
     ]
    }
   ],
   "source": [
    "%pip install roboflow\n",
    "\n",
    "import os\n",
    "from roboflow import Roboflow\n",
    "\n",
    "# Change accordingly after you get from ROBOFLOW\n",
    "rf = Roboflow(api_key=os.environ.get(\"ROBOFLOW_API_KEY\"))\n",
    "project = rf.workspace(\"mdpgrp34\").project(\"mdpgrp34\")\n",
    "dataset = project.version(1).download(\"yolov8\")"
   ]
  }
 ],
 "metadata": {
  "kernelspec": {
   "display_name": "Python 3",
   "language": "python",
   "name": "python3"
  },
  "language_info": {
   "codemirror_mode": {
    "name": "ipython",
    "version": 3
   },
   "file_extension": ".py",
   "mimetype": "text/x-python",
   "name": "python",
   "nbconvert_exporter": "python",
   "pygments_lexer": "ipython3",
   "version": "3.11.4"
  },
  "orig_nbformat": 4
 },
 "nbformat": 4,
 "nbformat_minor": 2
}
